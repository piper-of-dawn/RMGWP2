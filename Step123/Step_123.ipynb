{
 "cells": [
  {
   "cell_type": "markdown",
   "id": "1f915e12-c996-4007-92e7-db3084476045",
   "metadata": {},
   "source": [
    "### Step 1 "
   ]
  },
  {
   "cell_type": "markdown",
   "id": "0d2d2008-8f84-47a3-afa3-1f76af26db30",
   "metadata": {},
   "source": [
    "##### a - pseudocode for the forward algorithm and the backward algorithm"
   ]
  },
  {
   "cell_type": "markdown",
   "id": "b685c700-aa1a-49f8-a5bf-0d16ac5732d0",
   "metadata": {},
   "source": [
    "##### Forward Algorithm"
   ]
  },
  {
   "cell_type": "raw",
   "id": "0270bc0d-58b4-493c-9076-3d66c34e98ac",
   "metadata": {},
   "source": [
    "\n",
    "1. Let's initialize α matrix of size T x N with zeros\n",
    "2. For each state i from 1 to N:\n",
    "       α[0][i] = π[i] * b[i][o[0]]\n",
    "3. For t from 1 to T-1:\n",
    "       For each state i from 1 to N:\n",
    "           α[t][i] = b[i][o[t]] * sum(α[t-1][j] * a[j][i] for j from 1 to N)\n",
    "4. Probability of observing the sequence is sum(α[T-1][i] for i from 1 to N)\n"
   ]
  },
  {
   "cell_type": "markdown",
   "id": "5e83aed2-73d7-4b25-b63e-35c35ab6ccd3",
   "metadata": {},
   "source": [
    "##### Toy example "
   ]
  },
  {
   "cell_type": "code",
   "execution_count": 1,
   "id": "9429341b-2cdf-469d-ab2b-b655ea02f8dd",
   "metadata": {},
   "outputs": [
    {
     "name": "stdout",
     "output_type": "stream",
     "text": [
      "Probability of observing the sequence: 0.06961600000000001\n"
     ]
    }
   ],
   "source": [
    "# Toy HMM parameters\n",
    "# Consider a toy HMM with 2 states (A and B) and 3 observations (o1, o2, o3).\n",
    "π = [0.6, 0.4]\n",
    "a = [[0.7, 0.3], [0.4, 0.6]]\n",
    "b = [[0.5, 0.5], [0.1, 0.9]]\n",
    "o = [0, 1, 0]\n",
    "\n",
    "# Initialize α matrix\n",
    "α = [[0 for _ in range(2)] for _ in range(3)]\n",
    "α[0][0] = π[0] * b[0][o[0]]\n",
    "α[0][1] = π[1] * b[1][o[0]]\n",
    "\n",
    "# Calculate α values\n",
    "for t in range(1, 3):\n",
    "    for i in range(2):\n",
    "        α[t][i] = b[i][o[t]] * sum(α[t-1][j] * a[j][i] for j in range(2))\n",
    "\n",
    "# Probability of observing the sequence\n",
    "probability = sum(α[2][i] for i in range(2))\n",
    "print(\"Probability of observing the sequence:\", probability)\n"
   ]
  },
  {
   "cell_type": "markdown",
   "id": "873be8ca-c5da-4b4f-a1ea-c1ee848b019d",
   "metadata": {},
   "source": [
    "##### Backward Algorithm"
   ]
  },
  {
   "cell_type": "raw",
   "id": "9f9c61b5-1dd8-4bce-aea7-17c25c4106ad",
   "metadata": {},
   "source": [
    "\n",
    "1. Let's initialize β matrix of size T x N with zeros\n",
    "2. For each state i from 1 to N:\n",
    "       β[T-1][i] = 1\n",
    "3. For t from T-2 to 0:\n",
    "       For each state i from 1 to N:\n",
    "           β[t][i] = sum(a[i][j] * b[j][o[t+1]] * β[t+1][j] for j from 1 to N)\n",
    "4. Probability of observing the sequence is sum(π[i] * b[i][o[0]] * β[0][i] for i from 1 to N)\n"
   ]
  },
  {
   "cell_type": "markdown",
   "id": "714702b5-d8a4-4d6b-9b42-bee074af881e",
   "metadata": {},
   "source": [
    "##### Toy Example"
   ]
  },
  {
   "cell_type": "code",
   "execution_count": 2,
   "id": "07ce587f-0222-4397-8e04-2af38d9741b8",
   "metadata": {},
   "outputs": [
    {
     "name": "stdout",
     "output_type": "stream",
     "text": [
      "Probability of observing the sequence: 0.069616\n"
     ]
    }
   ],
   "source": [
    "# Toy HMM parameters\n",
    "π = [0.6, 0.4]\n",
    "a = [[0.7, 0.3], [0.4, 0.6]]\n",
    "b = [[0.5, 0.5], [0.1, 0.9]]\n",
    "o = [0, 1, 0]\n",
    "\n",
    "# Initialize β matrix\n",
    "β = [[0 for _ in range(2)] for _ in range(3)]\n",
    "for i in range(2):\n",
    "    β[2][i] = 1\n",
    "\n",
    "# Calculate β values\n",
    "for t in range(1, -1, -1):\n",
    "    for i in range(2):\n",
    "        β[t][i] = sum(a[i][j] * b[j][o[t+1]] * β[t+1][j] for j in range(2))\n",
    "\n",
    "# Probability of observing the sequence\n",
    "probability = sum(π[i] * b[i][o[0]] * β[0][i] for i in range(2))\n",
    "print(\"Probability of observing the sequence:\", probability)\n"
   ]
  },
  {
   "cell_type": "markdown",
   "id": "52a6e5be-720f-4785-882d-07f0fd62d664",
   "metadata": {},
   "source": [
    "#### b - backward Viterbi Algorithm Pseudocode"
   ]
  },
  {
   "cell_type": "raw",
   "id": "1e233bed-a530-40bc-8231-90b9d4f2132e",
   "metadata": {},
   "source": [
    "\n",
    "1. Let's initialize δ matrix of size T x N with zeros\n",
    "2. Lett's Initialize ψ matrix of size T x N with zeros\n",
    "3. For each state i from 1 to N:\n",
    "       δ[0][i] = π[i] * b[i][o[0]]\n",
    "       ψ[0][i] = 0\n",
    "4. For t from 1 to T-1:\n",
    "       For each state i from 1 to N:\n",
    "           δ[t][i] = max(δ[t-1][j] * a[j][i] for j from 1 to N) * b[i][o[t]]\n",
    "           ψ[t][i] = argmax(δ[t-1][j] * a[j][i] for j from 1 to N)\n",
    "5. Path[T-1] = argmax(δ[T-1][i] for i from 1 to N)\n",
    "6. For t from T-2 to 0:\n",
    "       Path[t] = ψ[t+1][Path[t+1]]\n"
   ]
  },
  {
   "cell_type": "code",
   "execution_count": 3,
   "id": "95420ae1-a10f-40b7-844a-0c848ade31e4",
   "metadata": {},
   "outputs": [
    {
     "name": "stdout",
     "output_type": "stream",
     "text": [
      "Most probable path: [0, 0, 0]\n"
     ]
    }
   ],
   "source": [
    "# Toy HMM parameters\n",
    "π = [0.6, 0.4]\n",
    "a = [[0.7, 0.3], [0.4, 0.6]]\n",
    "b = [[0.5, 0.5], [0.1, 0.9]]\n",
    "o = [0, 1, 0]\n",
    "\n",
    "# Initialize δ and ψ matrices\n",
    "δ = [[0 for _ in range(2)] for _ in range(3)]\n",
    "ψ = [[0 for _ in range(2)] for _ in range(3)]\n",
    "for i in range(2):\n",
    "    δ[0][i] = π[i] * b[i][o[0]]\n",
    "    ψ[0][i] = 0\n",
    "\n",
    "# Calculate δ and ψ values\n",
    "for t in range(1, 3):\n",
    "    for i in range(2):\n",
    "        δ[t][i] = max(δ[t-1][j] * a[j][i] for j in range(2)) * b[i][o[t]]\n",
    "        ψ[t][i] = max(range(2), key=lambda j: δ[t-1][j] * a[j][i])\n",
    "\n",
    "# Backtrack to find the most probable path\n",
    "path = [0] * 3\n",
    "path[2] = max(range(2), key=lambda i: δ[2][i])\n",
    "for t in range(1, -1, -1):\n",
    "    path[t] = ψ[t+1][path[t+1]]\n",
    "print(\"Most probable path:\", path)\n"
   ]
  },
  {
   "cell_type": "markdown",
   "id": "571f73e6-955f-4901-87f2-5db008967045",
   "metadata": {},
   "source": [
    "#### c - pseudocode for the Baum-Welch algorithm"
   ]
  },
  {
   "cell_type": "raw",
   "id": "ad0bad34-aad0-44b1-8d7b-bde93d885519",
   "metadata": {},
   "source": [
    "\n",
    "1. Let's initialize π, a, and b randomly\n",
    "2. Repeat until convergence:\n",
    "3. Let's initialize ξ and γ matrices\n",
    "4. For t from 0 to T-2:\n",
    "        For each state i from 1 to N:\n",
    "            For each state j from 1 to N:\n",
    "                ξ[t][i][j] = (α[t][i] * a[i][j] * b[j][o[t+1]] * β[t+1][j]) / sum(α[t][i] * a[i][j] * b[j][o[t+1]] * β[t+1][j] for i,j from 1 to N)\n",
    "5. For t from 0 to T-1:\n",
    "        For each state i from 1 to N:\n",
    "            γ[t][i] = sum(ξ[t][i][j] for j from 1 to N)\n",
    "6. Update π, a, and b:\n",
    "        π = γ[0]\n",
    "        For each state i from 1 to N:\n",
    "            For each state j from 1 to N:\n",
    "                a[i][j] = sum(ξ[t][i][j] for t from 0 to T-2) / sum(γ[t][i] for t from 0 to T-2)\n",
    "            For each observation k from 1 to M:\n",
    "                b[i][k] = sum(γ[t][i] for t from 0 to T-1 if o[t] == k) / sum(γ[t][i] for t from 0 to T-1)\n"
   ]
  },
  {
   "cell_type": "code",
   "execution_count": 4,
   "id": "6d02c499-731b-44e0-95c0-2335f5f4755f",
   "metadata": {},
   "outputs": [
    {
     "name": "stdout",
     "output_type": "stream",
     "text": [
      "π: [0.88669541 0.11330459]\n",
      "a: [[0.53380055 0.46619945]\n",
      " [0.23140517 0.76859483]]\n",
      "b: [[0.63742149 0.36257851]\n",
      " [0.18607042 0.81392958]]\n"
     ]
    }
   ],
   "source": [
    "# Toy HMM parameters\n",
    "π = [0.6, 0.4]\n",
    "a = [[0.7, 0.3], [0.4, 0.6]]\n",
    "b = [[0.5, 0.5], [0.1, 0.9]]\n",
    "o = [0, 1, 0]\n",
    "\n",
    "# Initialize randomly\n",
    "import numpy as np\n",
    "np.random.seed(42)\n",
    "\n",
    "π = np.random.rand(2)\n",
    "π /= π.sum()\n",
    "\n",
    "a = np.random.rand(2, 2)\n",
    "a /= a.sum(axis=1, keepdims=True)\n",
    "\n",
    "b = np.random.rand(2, 2)\n",
    "b /= b.sum(axis=1, keepdims=True)\n",
    "\n",
    "# Baum-Welch Algorithm\n",
    "converged = False\n",
    "while not converged:\n",
    "    ξ = np.zeros((3, 2, 2))\n",
    "    γ = np.zeros((3, 2))\n",
    "\n",
    "    # Calculate ξ and γ values\n",
    "    for t in range(2):\n",
    "        for i in range(2):\n",
    "            for j in range(2):\n",
    "                ξ[t][i][j] = (α[t][i] * a[i][j] * b[j][o[t+1]] * β[t+1][j]) / sum(α[t][i] * a[i][j] * b[j][o[t+1]] * β[t+1][j] for i in range(2) for j in range(2))\n",
    "\n",
    "    for t in range(3):\n",
    "        for i in range(2):\n",
    "            γ[t][i] = sum(ξ[t][i][j] for j in range(2))\n",
    "\n",
    "    # Update π, a, and b\n",
    "    π = γ[0]\n",
    "    for i in range(2):\n",
    "        for j in range(2):\n",
    "            a[i][j] = sum(ξ[t][i][j] for t in range(2)) / sum(γ[t][i] for t in range(2))\n",
    "\n",
    "    for i in range(2):\n",
    "        for k in range(2):\n",
    "            b[i][k] = sum(γ[t][i] for t in range(3) if o[t] == k) / sum(γ[t][i] for t in range(3))\n",
    "    \n",
    "    # Check for convergence (simple version)\n",
    "    converged = True\n",
    "\n",
    "# Learned parameters\n",
    "print(\"π:\", π)\n",
    "print(\"a:\", a)\n",
    "print(\"b:\", b)\n"
   ]
  },
  {
   "cell_type": "markdown",
   "id": "d2ec2ec6-fe93-4f51-a617-4bc68727858f",
   "metadata": {},
   "source": [
    "### Step 2 "
   ]
  },
  {
   "cell_type": "markdown",
   "id": "8d1e28f8-46ed-4d2b-92d3-04feae183245",
   "metadata": {},
   "source": [
    "a- Bull Regimes\n",
    "\n",
    "A bull regime in the Financial Market is marked as a time when there is an overall rise in the prices of stocks, accompanied by high investor confidence, optimism, and expectations of strong future performance along with some speculation. During the bull market, investors tend to buy more in the hope of expected payout leading to a sustained upward trend in the market.\n",
    "\n",
    "Key Indicators: Increased IPOs of tech companies, and high trading volumes, low interest rates, and significant capital inflows into equity markets, Rise in Index levels.\n",
    "\n",
    "Example of Bull Regimes:\n",
    "\n",
    "Dot-com Bubble (2000):\n",
    "As in the late 1900s, when the internet became mainstream leading to a massive surge in prices of technology stocks, and key driver of this growth was the wide adpatiation of the internet. Due to this sudden surge in the market, people started investing heavily mostly speculative investors, leading to the eventual market bubble.\n",
    "\n",
    "Example: Amazon.com saw its stock price skyrocket from around $'1.50, in 1997 to over dollar 90 by the end of 1999.\n",
    "Source: \"The Dot-Com Bubble Burst\" by Investopedia.\n",
    "\n",
    "Post-Financial Crisis Recovery (2009-2020):\n",
    "Post 08's Financial crisis, we saw the central bank implementing various monetary easing policies to help the market recover and restore investors' confidance in the Market. Which eventually lead to low intereste rate (availability of leverge) along with increase liquidity. Due to all these stimuli various asset classes showed upward trends leading to a bull market.\n",
    "        \n",
    "Example: Rise in S&P 500 index from a low of around 676 in March 2009 to over 3,200 by the end of 2019, marking one of the longest bull markets in history.\n",
    "Source: \"The Longest Bull Market in History: March 2009 – February 2020\", by Nasdaq."
   ]
  },
  {
   "cell_type": "markdown",
   "id": "4d18c16e-6429-4c3a-a034-bca7fe2a5da1",
   "metadata": {},
   "source": [
    "b - Bear Regimes\n",
    "\n",
    "it is a period in the Financial Market when we see a downturn, ie continuous decline in prices across the various stocks, due to some external influence or global event impacting the market. This leads to decrease in fatih of investors in market leading to selling calls across the board. During this period market participants become skeptical about expected future returns.\n",
    "\n",
    "Key Indicators: Rising unemployment rates, and widespread financial distress, Plummeting stock prices, bankruptcies of tech companies, and significant loss of investor wealth.\n",
    "\n",
    "Example of Bear Regimes:\n",
    "\n",
    "Global Financial Crisis (2007-2009):\n",
    "This Crisis was man-made, it started in the real estate sector as sub subprime mortgage crisis, and due to heavy leverage eventually entered the equity market causing liquidity concerns, and exacerbating the impact of the decline in prices. This domino effect lead to significant drop in investors confidance in the overall market. \n",
    "\n",
    "Example: The Dow Jones Industrial Average fell from approximately 14,000 in October 2007 to a low as 6,600 in March 2009.\n",
    "Source: \"The Financial Crisis of 2007-08\" by Federal Reserve History.\n",
    "\n",
    "Dot-com Bust (2000-2002):\n",
    "Every bull cycle is followed by a bear cycle, this was the case in early 2000, when after Dot-com bust, we saw a sharp decline in prices of technology stocks, as many internet companies failed to deliver the returns they promised, leading to mass exist and eventually price drops of tech stocks. \n",
    " \n",
    "Example: The NASDAQ Composite Index dropped from level of 5,000 in March 2000 to approx 1,100 by October 2002.\n",
    "Source: \"Dot-com Bubble Burst\" by the U.S. Securities and Exchange Commission.\n"
   ]
  },
  {
   "cell_type": "markdown",
   "id": "7657e937-77d7-4784-8f34-6e7280cbac57",
   "metadata": {},
   "source": [
    "\n",
    "c- Stagnant Regimes\n",
    "\n",
    "A period of confusion or flat market, is a period where we observe no significant movement in the Market, this is due to feelings of uncertainty in market participants. There can be various reason for that like related policy or prolonged global crises such as wars. In this period as participants are not sure which direction the market will swing, they tend to take precautions leading to low trading volume and stagnant prices.\n",
    "\n",
    "Key Indicator: High inflation rates, and slow GDP growth, Flat stock market indices and deflation.\n",
    "\n",
    "Examples of Stagnant Regimes:\n",
    "\n",
    "1970s Stagflation Period:\n",
    "It was a period of stalled economic growth, high inflation, and unemployment, commonly known as stagflation. This period marks the time when we saw little to no growth in the prices of stocks. This was a period of uncertainty and multiple global conflicts.\n",
    "        \n",
    "Example: S&P 500 Index fluctuated within a narrow range between 80 and 110 from 1973 to 1981.\n",
    "Source: \"Stagflation: Definition, Causes, and Examples\" by The Balance.\n",
    "\n",
    "Japanese Lost Decade (1990s):\n",
    "This is one of the widely known examples, after a crash in Japan's asset market (From the 80s boom), the country experienced a decade of stagnation with almost little increase in asset prices with constant deflationary pressure. \n",
    "\n",
    "Example: The Nikkei 225 Index remained flat, revolving around 15,000 points for most of the 1990s, after its peak in 1989 at nearly 39,000.\n",
    "Source: \"The Lost Decade: Lessons From Japan’s Real Estate Crisis\" by the IMF.\n"
   ]
  },
  {
   "cell_type": "markdown",
   "id": "8804f832-35a0-4e15-88a4-2172d1edddd4",
   "metadata": {},
   "source": [
    "### Step 3"
   ]
  },
  {
   "cell_type": "markdown",
   "id": "d90a8fc6-5353-41f8-a928-12a3f09ad342",
   "metadata": {},
   "source": [
    "### Definition 3: Hidden Markov Model\n",
    "\n",
    "A Hidden Markov Model is a quintuple $(Q, P, \\Pi, A, B)$, where:\n",
    "\n",
    "- $Q = \\{q_1, q_2, \\ldots, q_N\\}$ is a finite set of $N$ hidden states.\n",
    "- $P = \\{s_1, s_2, \\ldots, s_M\\}$ is a finite set of $M$ observable symbols.\n",
    "- $\\Pi = \\{\\pi_i\\}$ is initial probability distribution over these states.\n",
    "- $A = \\{a_{ij}\\}$ is state transition probability matrix, where $a_{ij} = P(q_{t+1} = q_j \\mid q_t = q_i)$.\n",
    "- $B = \\{b_i(s_k)\\}$ is the emission probability matrix, where $b_i(s_k) = P(s_k \\mid q_i)$.\n",
    "\n",
    "It can be compactly represented as $\\lambda = (\\Pi, A, B)$ and must satisfy the following constraints:\n",
    "\n",
    "1. The total probability of starting in any state is 1:\n",
    "\n",
    "   $$\n",
    "   \\sum_{i=1}^{N} \\pi_i = 1\n",
    "   $$\n",
    "\n",
    "2. The total transition probability from any state to all other states is 1 for each state $q_i$ in $Q$:\n",
    "\n",
    "   $$\n",
    "   \\sum_{j=1}^{N} a_{ij} = 1 \\quad \\forall i \\in Q\n",
    "   $$\n",
    "\n",
    "3. The total probability of emitting all possible symbols from any state $q_i$ is 1:\n",
    "\n",
    "   $$\n",
    "   \\sum_{k=1}^{M} b_i(s_k) = 1 \\quad \\forall i \\in Q\n",
    "   $$\n",
    "\n",
    "**Explanation:**\n",
    "\n",
    "HMM is well know statistical model, which reprsents the systmes that undergos transitions between hidden states. Which lead to observable outups from each state. The states $Q$ represents configuration of the systm that are not observable directly. They can only be observed through sympbols from the set $P$, which are the measurable outputs.\n",
    "\n",
    "\n",
    "- **Initial State Distribution ($\\Pi$):** This is vector representation of probability of system starting in each hidden states. It is possbility of being in each state at initial time.\n",
    "- **Transition Probability Matrix (A):** It is defined as the probabilities of moving from one state to another. $a_{ij}$ is the probability of transitioning from state $q_i$ to state $q_j$ in the next time step.\n",
    "- **Emission Probability Matrix (B):** Emission Probability matrix is defnied as probability of observing each symbol given the current state. $b_i(s_k)$ is the probability of observing symbol $s_k$ when the system is in state $q_i$.\n",
    "\n",
    "\n",
    "**References:**\n",
    "\n",
    "Rabiner, L. R. (1989). A tutorial on hidden Markov models and selected applications in speech recognition.\n",
    "\n",
    "Murphy, K. P. (2012). Machine Learning: A Probabilistic Perspective. MIT Press.\n",
    "\n",
    "Bishop, C. M. (2006). Pattern Recognition and Machine Learning. Springer. \n",
    "\n",
    "Durbin, R., Eddy, S. R., Krogh, A., & Mitchison, G. (1998). Biological Sequence Analysis:"
   ]
  },
  {
   "cell_type": "code",
   "execution_count": null,
   "id": "7871bcbf-381f-4c1b-bbe5-2a5ed3c9e1ed",
   "metadata": {},
   "outputs": [],
   "source": []
  }
 ],
 "metadata": {
  "kernelspec": {
   "display_name": "Python 3 (ipykernel)",
   "language": "python",
   "name": "python3"
  },
  "language_info": {
   "codemirror_mode": {
    "name": "ipython",
    "version": 3
   },
   "file_extension": ".py",
   "mimetype": "text/x-python",
   "name": "python",
   "nbconvert_exporter": "python",
   "pygments_lexer": "ipython3",
   "version": "3.12.4"
  }
 },
 "nbformat": 4,
 "nbformat_minor": 5
}
